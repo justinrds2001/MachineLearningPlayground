{
 "cells": [
  {
   "cell_type": "markdown",
   "id": "0c3141e7-88d3-4806-9af2-5d6b7060c14b",
   "metadata": {},
   "source": [
    "# Predict North America Sales and Evaluate Regression model"
   ]
  },
  {
   "cell_type": "code",
   "execution_count": 1,
   "id": "8860eaae-ead8-40d4-92a0-1dd27e2f0e1c",
   "metadata": {},
   "outputs": [
    {
     "data": {
      "text/html": [
       "<div>\n",
       "<style scoped>\n",
       "    .dataframe tbody tr th:only-of-type {\n",
       "        vertical-align: middle;\n",
       "    }\n",
       "\n",
       "    .dataframe tbody tr th {\n",
       "        vertical-align: top;\n",
       "    }\n",
       "\n",
       "    .dataframe thead th {\n",
       "        text-align: right;\n",
       "    }\n",
       "</style>\n",
       "<table border=\"1\" class=\"dataframe\">\n",
       "  <thead>\n",
       "    <tr style=\"text-align: right;\">\n",
       "      <th></th>\n",
       "      <th>Rank</th>\n",
       "      <th>Name</th>\n",
       "      <th>Platform</th>\n",
       "      <th>Year</th>\n",
       "      <th>Genre</th>\n",
       "      <th>Publisher</th>\n",
       "      <th>NA_Sales</th>\n",
       "      <th>EU_Sales</th>\n",
       "      <th>JP_Sales</th>\n",
       "      <th>Other_Sales</th>\n",
       "      <th>Global_Sales</th>\n",
       "    </tr>\n",
       "  </thead>\n",
       "  <tbody>\n",
       "    <tr>\n",
       "      <th>0</th>\n",
       "      <td>1</td>\n",
       "      <td>Wii Sports</td>\n",
       "      <td>Wii</td>\n",
       "      <td>2006.0</td>\n",
       "      <td>Sports</td>\n",
       "      <td>Nintendo</td>\n",
       "      <td>41.49</td>\n",
       "      <td>29.02</td>\n",
       "      <td>3.77</td>\n",
       "      <td>8.46</td>\n",
       "      <td>82.74</td>\n",
       "    </tr>\n",
       "    <tr>\n",
       "      <th>1</th>\n",
       "      <td>2</td>\n",
       "      <td>Super Mario Bros.</td>\n",
       "      <td>NES</td>\n",
       "      <td>1985.0</td>\n",
       "      <td>Platform</td>\n",
       "      <td>Nintendo</td>\n",
       "      <td>29.08</td>\n",
       "      <td>3.58</td>\n",
       "      <td>6.81</td>\n",
       "      <td>0.77</td>\n",
       "      <td>40.24</td>\n",
       "    </tr>\n",
       "    <tr>\n",
       "      <th>2</th>\n",
       "      <td>3</td>\n",
       "      <td>Mario Kart Wii</td>\n",
       "      <td>Wii</td>\n",
       "      <td>2008.0</td>\n",
       "      <td>Racing</td>\n",
       "      <td>Nintendo</td>\n",
       "      <td>15.85</td>\n",
       "      <td>12.88</td>\n",
       "      <td>3.79</td>\n",
       "      <td>3.31</td>\n",
       "      <td>35.82</td>\n",
       "    </tr>\n",
       "    <tr>\n",
       "      <th>3</th>\n",
       "      <td>4</td>\n",
       "      <td>Wii Sports Resort</td>\n",
       "      <td>Wii</td>\n",
       "      <td>2009.0</td>\n",
       "      <td>Sports</td>\n",
       "      <td>Nintendo</td>\n",
       "      <td>15.75</td>\n",
       "      <td>11.01</td>\n",
       "      <td>3.28</td>\n",
       "      <td>2.96</td>\n",
       "      <td>33.00</td>\n",
       "    </tr>\n",
       "    <tr>\n",
       "      <th>4</th>\n",
       "      <td>5</td>\n",
       "      <td>Pokemon Red/Pokemon Blue</td>\n",
       "      <td>GB</td>\n",
       "      <td>1996.0</td>\n",
       "      <td>Role-Playing</td>\n",
       "      <td>Nintendo</td>\n",
       "      <td>11.27</td>\n",
       "      <td>8.89</td>\n",
       "      <td>10.22</td>\n",
       "      <td>1.00</td>\n",
       "      <td>31.37</td>\n",
       "    </tr>\n",
       "  </tbody>\n",
       "</table>\n",
       "</div>"
      ],
      "text/plain": [
       "   Rank                      Name Platform    Year         Genre Publisher  \\\n",
       "0     1                Wii Sports      Wii  2006.0        Sports  Nintendo   \n",
       "1     2         Super Mario Bros.      NES  1985.0      Platform  Nintendo   \n",
       "2     3            Mario Kart Wii      Wii  2008.0        Racing  Nintendo   \n",
       "3     4         Wii Sports Resort      Wii  2009.0        Sports  Nintendo   \n",
       "4     5  Pokemon Red/Pokemon Blue       GB  1996.0  Role-Playing  Nintendo   \n",
       "\n",
       "   NA_Sales  EU_Sales  JP_Sales  Other_Sales  Global_Sales  \n",
       "0     41.49     29.02      3.77         8.46         82.74  \n",
       "1     29.08      3.58      6.81         0.77         40.24  \n",
       "2     15.85     12.88      3.79         3.31         35.82  \n",
       "3     15.75     11.01      3.28         2.96         33.00  \n",
       "4     11.27      8.89     10.22         1.00         31.37  "
      ]
     },
     "execution_count": 1,
     "metadata": {},
     "output_type": "execute_result"
    }
   ],
   "source": [
    "import numpy as np\n",
    "import matplotlib.pyplot as plt\n",
    "import pandas as pd\n",
    "\n",
    "df = pd.read_csv('vgsales.csv', sep=',')\n",
    "df.head()"
   ]
  },
  {
   "cell_type": "code",
   "execution_count": 4,
   "id": "f5779c07-0b4d-4ab3-919c-f240bfc250c5",
   "metadata": {
    "scrolled": true
   },
   "outputs": [
    {
     "data": {
      "text/html": [
       "<style type=\"text/css\">\n",
       "#T_5bb5a_row0_col0, #T_5bb5a_row1_col1, #T_5bb5a_row2_col2, #T_5bb5a_row3_col3, #T_5bb5a_row4_col4, #T_5bb5a_row5_col5, #T_5bb5a_row6_col6 {\n",
       "  background-color: #b40426;\n",
       "  color: #f1f1f1;\n",
       "}\n",
       "#T_5bb5a_row0_col1, #T_5bb5a_row1_col0 {\n",
       "  background-color: #c7d7f0;\n",
       "  color: #000000;\n",
       "}\n",
       "#T_5bb5a_row0_col2, #T_5bb5a_row2_col0 {\n",
       "  background-color: #3f53c6;\n",
       "  color: #f1f1f1;\n",
       "}\n",
       "#T_5bb5a_row0_col3, #T_5bb5a_row3_col0 {\n",
       "  background-color: #445acc;\n",
       "  color: #f1f1f1;\n",
       "}\n",
       "#T_5bb5a_row0_col4, #T_5bb5a_row4_col0 {\n",
       "  background-color: #5d7ce6;\n",
       "  color: #f1f1f1;\n",
       "}\n",
       "#T_5bb5a_row0_col5, #T_5bb5a_row5_col0 {\n",
       "  background-color: #4e68d8;\n",
       "  color: #f1f1f1;\n",
       "}\n",
       "#T_5bb5a_row0_col6, #T_5bb5a_row6_col0 {\n",
       "  background-color: #3b4cc0;\n",
       "  color: #f1f1f1;\n",
       "}\n",
       "#T_5bb5a_row1_col2, #T_5bb5a_row2_col1 {\n",
       "  background-color: #88abfd;\n",
       "  color: #000000;\n",
       "}\n",
       "#T_5bb5a_row1_col3, #T_5bb5a_row3_col1 {\n",
       "  background-color: #9fbfff;\n",
       "  color: #000000;\n",
       "}\n",
       "#T_5bb5a_row1_col4, #T_5bb5a_row4_col1 {\n",
       "  background-color: #7597f6;\n",
       "  color: #f1f1f1;\n",
       "}\n",
       "#T_5bb5a_row1_col5, #T_5bb5a_row5_col1 {\n",
       "  background-color: #a9c6fd;\n",
       "  color: #000000;\n",
       "}\n",
       "#T_5bb5a_row1_col6, #T_5bb5a_row6_col1 {\n",
       "  background-color: #8caffe;\n",
       "  color: #000000;\n",
       "}\n",
       "#T_5bb5a_row2_col3, #T_5bb5a_row3_col2 {\n",
       "  background-color: #e67259;\n",
       "  color: #f1f1f1;\n",
       "}\n",
       "#T_5bb5a_row2_col4, #T_5bb5a_row4_col2 {\n",
       "  background-color: #f3c7b1;\n",
       "  color: #000000;\n",
       "}\n",
       "#T_5bb5a_row2_col5, #T_5bb5a_row5_col2 {\n",
       "  background-color: #f59c7d;\n",
       "  color: #000000;\n",
       "}\n",
       "#T_5bb5a_row2_col6, #T_5bb5a_row6_col2 {\n",
       "  background-color: #c32e31;\n",
       "  color: #f1f1f1;\n",
       "}\n",
       "#T_5bb5a_row3_col4, #T_5bb5a_row4_col3 {\n",
       "  background-color: #f2cab5;\n",
       "  color: #000000;\n",
       "}\n",
       "#T_5bb5a_row3_col5, #T_5bb5a_row5_col3 {\n",
       "  background-color: #ec8165;\n",
       "  color: #f1f1f1;\n",
       "}\n",
       "#T_5bb5a_row3_col6, #T_5bb5a_row6_col3 {\n",
       "  background-color: #cc403a;\n",
       "  color: #f1f1f1;\n",
       "}\n",
       "#T_5bb5a_row4_col5, #T_5bb5a_row5_col4 {\n",
       "  background-color: #dddcdc;\n",
       "  color: #000000;\n",
       "}\n",
       "#T_5bb5a_row4_col6, #T_5bb5a_row6_col4 {\n",
       "  background-color: #f6a283;\n",
       "  color: #000000;\n",
       "}\n",
       "#T_5bb5a_row5_col6, #T_5bb5a_row6_col5 {\n",
       "  background-color: #e97a5f;\n",
       "  color: #f1f1f1;\n",
       "}\n",
       "</style>\n",
       "<table id=\"T_5bb5a\">\n",
       "  <thead>\n",
       "    <tr>\n",
       "      <th class=\"blank level0\" >&nbsp;</th>\n",
       "      <th id=\"T_5bb5a_level0_col0\" class=\"col_heading level0 col0\" >Rank</th>\n",
       "      <th id=\"T_5bb5a_level0_col1\" class=\"col_heading level0 col1\" >Year</th>\n",
       "      <th id=\"T_5bb5a_level0_col2\" class=\"col_heading level0 col2\" >NA_Sales</th>\n",
       "      <th id=\"T_5bb5a_level0_col3\" class=\"col_heading level0 col3\" >EU_Sales</th>\n",
       "      <th id=\"T_5bb5a_level0_col4\" class=\"col_heading level0 col4\" >JP_Sales</th>\n",
       "      <th id=\"T_5bb5a_level0_col5\" class=\"col_heading level0 col5\" >Other_Sales</th>\n",
       "      <th id=\"T_5bb5a_level0_col6\" class=\"col_heading level0 col6\" >Global_Sales</th>\n",
       "    </tr>\n",
       "  </thead>\n",
       "  <tbody>\n",
       "    <tr>\n",
       "      <th id=\"T_5bb5a_level0_row0\" class=\"row_heading level0 row0\" >Rank</th>\n",
       "      <td id=\"T_5bb5a_row0_col0\" class=\"data row0 col0\" >1.00</td>\n",
       "      <td id=\"T_5bb5a_row0_col1\" class=\"data row0 col1\" >0.18</td>\n",
       "      <td id=\"T_5bb5a_row0_col2\" class=\"data row0 col2\" >-0.40</td>\n",
       "      <td id=\"T_5bb5a_row0_col3\" class=\"data row0 col3\" >-0.38</td>\n",
       "      <td id=\"T_5bb5a_row0_col4\" class=\"data row0 col4\" >-0.27</td>\n",
       "      <td id=\"T_5bb5a_row0_col5\" class=\"data row0 col5\" >-0.33</td>\n",
       "      <td id=\"T_5bb5a_row0_col6\" class=\"data row0 col6\" >-0.43</td>\n",
       "    </tr>\n",
       "    <tr>\n",
       "      <th id=\"T_5bb5a_level0_row1\" class=\"row_heading level0 row1\" >Year</th>\n",
       "      <td id=\"T_5bb5a_row1_col0\" class=\"data row1 col0\" >0.18</td>\n",
       "      <td id=\"T_5bb5a_row1_col1\" class=\"data row1 col1\" >1.00</td>\n",
       "      <td id=\"T_5bb5a_row1_col2\" class=\"data row1 col2\" >-0.09</td>\n",
       "      <td id=\"T_5bb5a_row1_col3\" class=\"data row1 col3\" >0.01</td>\n",
       "      <td id=\"T_5bb5a_row1_col4\" class=\"data row1 col4\" >-0.17</td>\n",
       "      <td id=\"T_5bb5a_row1_col5\" class=\"data row1 col5\" >0.04</td>\n",
       "      <td id=\"T_5bb5a_row1_col6\" class=\"data row1 col6\" >-0.07</td>\n",
       "    </tr>\n",
       "    <tr>\n",
       "      <th id=\"T_5bb5a_level0_row2\" class=\"row_heading level0 row2\" >NA_Sales</th>\n",
       "      <td id=\"T_5bb5a_row2_col0\" class=\"data row2 col0\" >-0.40</td>\n",
       "      <td id=\"T_5bb5a_row2_col1\" class=\"data row2 col1\" >-0.09</td>\n",
       "      <td id=\"T_5bb5a_row2_col2\" class=\"data row2 col2\" >1.00</td>\n",
       "      <td id=\"T_5bb5a_row2_col3\" class=\"data row2 col3\" >0.77</td>\n",
       "      <td id=\"T_5bb5a_row2_col4\" class=\"data row2 col4\" >0.45</td>\n",
       "      <td id=\"T_5bb5a_row2_col5\" class=\"data row2 col5\" >0.63</td>\n",
       "      <td id=\"T_5bb5a_row2_col6\" class=\"data row2 col6\" >0.94</td>\n",
       "    </tr>\n",
       "    <tr>\n",
       "      <th id=\"T_5bb5a_level0_row3\" class=\"row_heading level0 row3\" >EU_Sales</th>\n",
       "      <td id=\"T_5bb5a_row3_col0\" class=\"data row3 col0\" >-0.38</td>\n",
       "      <td id=\"T_5bb5a_row3_col1\" class=\"data row3 col1\" >0.01</td>\n",
       "      <td id=\"T_5bb5a_row3_col2\" class=\"data row3 col2\" >0.77</td>\n",
       "      <td id=\"T_5bb5a_row3_col3\" class=\"data row3 col3\" >1.00</td>\n",
       "      <td id=\"T_5bb5a_row3_col4\" class=\"data row3 col4\" >0.44</td>\n",
       "      <td id=\"T_5bb5a_row3_col5\" class=\"data row3 col5\" >0.73</td>\n",
       "      <td id=\"T_5bb5a_row3_col6\" class=\"data row3 col6\" >0.90</td>\n",
       "    </tr>\n",
       "    <tr>\n",
       "      <th id=\"T_5bb5a_level0_row4\" class=\"row_heading level0 row4\" >JP_Sales</th>\n",
       "      <td id=\"T_5bb5a_row4_col0\" class=\"data row4 col0\" >-0.27</td>\n",
       "      <td id=\"T_5bb5a_row4_col1\" class=\"data row4 col1\" >-0.17</td>\n",
       "      <td id=\"T_5bb5a_row4_col2\" class=\"data row4 col2\" >0.45</td>\n",
       "      <td id=\"T_5bb5a_row4_col3\" class=\"data row4 col3\" >0.44</td>\n",
       "      <td id=\"T_5bb5a_row4_col4\" class=\"data row4 col4\" >1.00</td>\n",
       "      <td id=\"T_5bb5a_row4_col5\" class=\"data row4 col5\" >0.29</td>\n",
       "      <td id=\"T_5bb5a_row4_col6\" class=\"data row4 col6\" >0.61</td>\n",
       "    </tr>\n",
       "    <tr>\n",
       "      <th id=\"T_5bb5a_level0_row5\" class=\"row_heading level0 row5\" >Other_Sales</th>\n",
       "      <td id=\"T_5bb5a_row5_col0\" class=\"data row5 col0\" >-0.33</td>\n",
       "      <td id=\"T_5bb5a_row5_col1\" class=\"data row5 col1\" >0.04</td>\n",
       "      <td id=\"T_5bb5a_row5_col2\" class=\"data row5 col2\" >0.63</td>\n",
       "      <td id=\"T_5bb5a_row5_col3\" class=\"data row5 col3\" >0.73</td>\n",
       "      <td id=\"T_5bb5a_row5_col4\" class=\"data row5 col4\" >0.29</td>\n",
       "      <td id=\"T_5bb5a_row5_col5\" class=\"data row5 col5\" >1.00</td>\n",
       "      <td id=\"T_5bb5a_row5_col6\" class=\"data row5 col6\" >0.75</td>\n",
       "    </tr>\n",
       "    <tr>\n",
       "      <th id=\"T_5bb5a_level0_row6\" class=\"row_heading level0 row6\" >Global_Sales</th>\n",
       "      <td id=\"T_5bb5a_row6_col0\" class=\"data row6 col0\" >-0.43</td>\n",
       "      <td id=\"T_5bb5a_row6_col1\" class=\"data row6 col1\" >-0.07</td>\n",
       "      <td id=\"T_5bb5a_row6_col2\" class=\"data row6 col2\" >0.94</td>\n",
       "      <td id=\"T_5bb5a_row6_col3\" class=\"data row6 col3\" >0.90</td>\n",
       "      <td id=\"T_5bb5a_row6_col4\" class=\"data row6 col4\" >0.61</td>\n",
       "      <td id=\"T_5bb5a_row6_col5\" class=\"data row6 col5\" >0.75</td>\n",
       "      <td id=\"T_5bb5a_row6_col6\" class=\"data row6 col6\" >1.00</td>\n",
       "    </tr>\n",
       "  </tbody>\n",
       "</table>\n"
      ],
      "text/plain": [
       "<pandas.io.formats.style.Styler at 0x1d57e07f610>"
      ]
     },
     "execution_count": 4,
     "metadata": {},
     "output_type": "execute_result"
    }
   ],
   "source": [
    "numeric_df = df.select_dtypes(include=['number'])\n",
    "correlation_matrix = numeric_df.corr()\n",
    "\n",
    "# Format the correlation matrix to set precision\n",
    "formatted_correlation = correlation_matrix.style.background_gradient(cmap='coolwarm', axis=None).format(precision=2)\n",
    "\n",
    "# Display the formatted correlation matrix\n",
    "formatted_correlation"
   ]
  },
  {
   "cell_type": "code",
   "execution_count": 14,
   "id": "e9f75fc5-6e37-4847-b1b3-3b8783bb85d5",
   "metadata": {},
   "outputs": [
    {
     "data": {
      "text/plain": [
       "(16598, 1)"
      ]
     },
     "execution_count": 14,
     "metadata": {},
     "output_type": "execute_result"
    }
   ],
   "source": [
    "# filter out input that has the highest correlation with NA_Sales\n",
    "X = df[[\"EU_Sales\"]] # (16597, 1) Matrix (Inputs)\n",
    "y = df[[\"NA_Sales\"]] # (16597, 1) Matrix (Outputs)\n",
    "X.shape"
   ]
  },
  {
   "cell_type": "code",
   "execution_count": 15,
   "id": "ec5fcb91-803e-46f2-a741-80757452c092",
   "metadata": {},
   "outputs": [
    {
     "data": {
      "text/html": [
       "<style>#sk-container-id-3 {color: black;}#sk-container-id-3 pre{padding: 0;}#sk-container-id-3 div.sk-toggleable {background-color: white;}#sk-container-id-3 label.sk-toggleable__label {cursor: pointer;display: block;width: 100%;margin-bottom: 0;padding: 0.3em;box-sizing: border-box;text-align: center;}#sk-container-id-3 label.sk-toggleable__label-arrow:before {content: \"▸\";float: left;margin-right: 0.25em;color: #696969;}#sk-container-id-3 label.sk-toggleable__label-arrow:hover:before {color: black;}#sk-container-id-3 div.sk-estimator:hover label.sk-toggleable__label-arrow:before {color: black;}#sk-container-id-3 div.sk-toggleable__content {max-height: 0;max-width: 0;overflow: hidden;text-align: left;background-color: #f0f8ff;}#sk-container-id-3 div.sk-toggleable__content pre {margin: 0.2em;color: black;border-radius: 0.25em;background-color: #f0f8ff;}#sk-container-id-3 input.sk-toggleable__control:checked~div.sk-toggleable__content {max-height: 200px;max-width: 100%;overflow: auto;}#sk-container-id-3 input.sk-toggleable__control:checked~label.sk-toggleable__label-arrow:before {content: \"▾\";}#sk-container-id-3 div.sk-estimator input.sk-toggleable__control:checked~label.sk-toggleable__label {background-color: #d4ebff;}#sk-container-id-3 div.sk-label input.sk-toggleable__control:checked~label.sk-toggleable__label {background-color: #d4ebff;}#sk-container-id-3 input.sk-hidden--visually {border: 0;clip: rect(1px 1px 1px 1px);clip: rect(1px, 1px, 1px, 1px);height: 1px;margin: -1px;overflow: hidden;padding: 0;position: absolute;width: 1px;}#sk-container-id-3 div.sk-estimator {font-family: monospace;background-color: #f0f8ff;border: 1px dotted black;border-radius: 0.25em;box-sizing: border-box;margin-bottom: 0.5em;}#sk-container-id-3 div.sk-estimator:hover {background-color: #d4ebff;}#sk-container-id-3 div.sk-parallel-item::after {content: \"\";width: 100%;border-bottom: 1px solid gray;flex-grow: 1;}#sk-container-id-3 div.sk-label:hover label.sk-toggleable__label {background-color: #d4ebff;}#sk-container-id-3 div.sk-serial::before {content: \"\";position: absolute;border-left: 1px solid gray;box-sizing: border-box;top: 0;bottom: 0;left: 50%;z-index: 0;}#sk-container-id-3 div.sk-serial {display: flex;flex-direction: column;align-items: center;background-color: white;padding-right: 0.2em;padding-left: 0.2em;position: relative;}#sk-container-id-3 div.sk-item {position: relative;z-index: 1;}#sk-container-id-3 div.sk-parallel {display: flex;align-items: stretch;justify-content: center;background-color: white;position: relative;}#sk-container-id-3 div.sk-item::before, #sk-container-id-3 div.sk-parallel-item::before {content: \"\";position: absolute;border-left: 1px solid gray;box-sizing: border-box;top: 0;bottom: 0;left: 50%;z-index: -1;}#sk-container-id-3 div.sk-parallel-item {display: flex;flex-direction: column;z-index: 1;position: relative;background-color: white;}#sk-container-id-3 div.sk-parallel-item:first-child::after {align-self: flex-end;width: 50%;}#sk-container-id-3 div.sk-parallel-item:last-child::after {align-self: flex-start;width: 50%;}#sk-container-id-3 div.sk-parallel-item:only-child::after {width: 0;}#sk-container-id-3 div.sk-dashed-wrapped {border: 1px dashed gray;margin: 0 0.4em 0.5em 0.4em;box-sizing: border-box;padding-bottom: 0.4em;background-color: white;}#sk-container-id-3 div.sk-label label {font-family: monospace;font-weight: bold;display: inline-block;line-height: 1.2em;}#sk-container-id-3 div.sk-label-container {text-align: center;}#sk-container-id-3 div.sk-container {/* jupyter's `normalize.less` sets `[hidden] { display: none; }` but bootstrap.min.css set `[hidden] { display: none !important; }` so we also need the `!important` here to be able to override the default hidden behavior on the sphinx rendered scikit-learn.org. See: https://github.com/scikit-learn/scikit-learn/issues/21755 */display: inline-block !important;position: relative;}#sk-container-id-3 div.sk-text-repr-fallback {display: none;}</style><div id=\"sk-container-id-3\" class=\"sk-top-container\"><div class=\"sk-text-repr-fallback\"><pre>LinearRegression()</pre><b>In a Jupyter environment, please rerun this cell to show the HTML representation or trust the notebook. <br />On GitHub, the HTML representation is unable to render, please try loading this page with nbviewer.org.</b></div><div class=\"sk-container\" hidden><div class=\"sk-item\"><div class=\"sk-estimator sk-toggleable\"><input class=\"sk-toggleable__control sk-hidden--visually\" id=\"sk-estimator-id-3\" type=\"checkbox\" checked><label for=\"sk-estimator-id-3\" class=\"sk-toggleable__label sk-toggleable__label-arrow\">LinearRegression</label><div class=\"sk-toggleable__content\"><pre>LinearRegression()</pre></div></div></div></div></div>"
      ],
      "text/plain": [
       "LinearRegression()"
      ]
     },
     "execution_count": 15,
     "metadata": {},
     "output_type": "execute_result"
    }
   ],
   "source": [
    "# perform the regression using scikit-learn\n",
    "from sklearn import linear_model\n",
    "regr = linear_model.LinearRegression()\n",
    "regr.fit(X, y)"
   ]
  },
  {
   "cell_type": "code",
   "execution_count": 28,
   "id": "4a31dd68-cd75-4455-a7a1-da88936cd442",
   "metadata": {
    "scrolled": true
   },
   "outputs": [
    {
     "name": "stdout",
     "output_type": "stream",
     "text": [
      "theta_0 [0.08271625] theta_1 [[1.24070026]]\n"
     ]
    },
    {
     "data": {
      "image/png": "[encoded data removed]",
      "text/plain": [
       "<Figure size 640x480 with 1 Axes>"
      ]
     },
     "metadata": {},
     "output_type": "display_data"
    }
   ],
   "source": [
    "# the theta's\n",
    "print('theta_0', regr.intercept_, 'theta_1', regr.coef_)\n",
    "\n",
    "# perform prediction on the complete training set\n",
    "pred = regr.predict(X)\n",
    "\n",
    "# visualize how the model fits the training data\n",
    "plt.scatter(X, y)\n",
    "plt.plot(X, pred, color=\"red\")\n",
    "plt.xlabel('Europe Sales in millions')\n",
    "plt.ylabel('North America Sales in millions')\n",
    "plt.title('Profit as a function of city population')\n",
    "plt.show()"
   ]
  },
  {
   "cell_type": "markdown",
   "id": "812e354b-d073-47dc-9f44-1ee8a9e8a59f",
   "metadata": {},
   "source": [
    "## Watched https://www.youtube.com/watch?v=zMFdb__sUpw to understands RMSE better\n",
    "\n",
    "## Biggest difference between MAE and RMSE:\n",
    "- RMSE Takes the square of each difference between Prediction and Actual value\n",
    "- This means large differences get punished more severely in RMSE\n",
    "- Outliers will cause RMSE to become bigger than MAE"
   ]
  },
  {
   "cell_type": "code",
   "execution_count": 27,
   "id": "ad4f538a-c556-41a7-93f2-19cfd1c33106",
   "metadata": {},
   "outputs": [
    {
     "name": "stdout",
     "output_type": "stream",
     "text": [
      "Mean Squared Error (MSE): 0.2738389551360345\n",
      "Root Mean Squared Error (RMSE): 0.5232962403228544\n",
      "Mean Absolute Error (MAE): 0.178044122743789\n"
     ]
    }
   ],
   "source": [
    "# Evaluate the model with different methods\n",
    "from sklearn.metrics import mean_squared_error, mean_absolute_error\n",
    "\n",
    "# Calculate the Mean Squared Error (MSE)\n",
    "mse = mean_squared_error(y, pred)\n",
    "\n",
    "# Calculate the Mean Absolute Error (MAE)\n",
    "mae = mean_absolute_error(y, pred)\n",
    "\n",
    "# Calculate the Root Mean Squared Error (RMSE)\n",
    "rmse = math.sqrt(mse)\n",
    "\n",
    "print(\"Mean Squared Error (MSE):\", mse)\n",
    "print(\"Root Mean Squared Error (RMSE):\", rmse)\n",
    "print(\"Mean Absolute Error (MAE):\", mae)"
   ]
  },
  {
   "cell_type": "code",
   "execution_count": null,
   "id": "a5c231d7-3fab-4410-b00f-b93f8cdf7c4c",
   "metadata": {},
   "outputs": [],
   "source": []
  }
 ],
 "metadata": {
  "kernelspec": {
   "display_name": "Python 3 (ipykernel)",
   "language": "python",
   "name": "python3"
  },
  "language_info": {
   "codemirror_mode": {
    "name": "ipython",
    "version": 3
   },
   "file_extension": ".py",
   "mimetype": "text/x-python",
   "name": "python",
   "nbconvert_exporter": "python",
   "pygments_lexer": "ipython3",
   "version": "3.11.5"
  }
 },
 "nbformat": 4,
 "nbformat_minor": 5
}
