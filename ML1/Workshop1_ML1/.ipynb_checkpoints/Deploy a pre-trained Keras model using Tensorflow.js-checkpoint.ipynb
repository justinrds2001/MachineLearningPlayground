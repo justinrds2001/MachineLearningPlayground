{
 "cells": [
  {
   "cell_type": "markdown",
   "metadata": {},
   "source": [
    "# Hands-on 4: deploy a pre-trained Keras model using Tensorflow.js\n",
    "\n",
    "In Hands-on 3, \"Univariate linear regression using a Keras/Tensorflow neural network\", we've trained a regression model using Keras. We were happy with the model and saved the model, to allow using it elsewhere to make predictions. \n",
    "\n",
    "We've saved the model in tensorflow.js format, using ```import tensorflowjs as tfjs; tfjs.converters.save_keras_model(my_regression_model, 'my_tfjs_model')```, which allows to directly use it in Tensorflow.js. Another frequently used format is HDF5, the Hierarchical Data Format version 5 (HDF5), is an open source file format that supports large, complex, heterogeneous data. Saving the model in HDF5 format can be done by ```my_regression_model.save('my_regression_model.hf5')```. A model saved in HDF5 format (extension .hf5) can be converted to the tensorflow.js format using the tensorflowjs_converter. However, we don't need to do this, as we've saved the model directly into tensorflow.js format.\n",
    "\n",
    "In this hands-on, we're going to deploy the pre-trained Keras model as a node.js back-end, using Tensorflow.js. Tensorflow.js is a Javascript based open-source library with which you define, train, and run machine learning models. As we've defined and trained the model using the normal, python-based Tensorflow, we'll be using Tensorflow.js only to *run* the model.\n",
    "\n",
    "Other deployment possibilities (that we won't be trying in this hands-on):\n",
    "* It is also possible to deploy the pre-trained model in the browser, using Tensorflow.js, so as a front-end. Note that *training* a machine learning model is CPU intensive, but *running* is not. So running the trained model in the browser on a light-weight device like a smartphone is not a problem. Choosing to allocate the prediction intelligence in the back-end or front-end is, of course, an archtitectural design choice, each having its own pro's and con's.\n",
    "\n",
    "* Yet other possibilities to deploy the pre-trained model are keras.js or ml5.js. ml5.js is an open source, friendly, high level interface to TensorFlow.js. The goal of ml5.js is to make machine learning approachable for a broad audience of artists, creative coders, and students. The library provides access to machine learning algorithms and models in the browser, building on top of TensorFlow.js with no other external dependencies."
   ]
  },
  {
   "cell_type": "markdown",
   "metadata": {},
   "source": [
    "## Pre-trained model in a Node.js back-end\n",
    "\n",
    "1. open a command prompt in the folder \"nodejsapp\"\n",
    "2. run ```npm install```.\n",
    "3. run ```node my_predict_app.js``` to start the node.js http server\n",
    "4. open a browser with URL: ```http://localhost:8081/?citysize=20```. '20' means a city size of 200000. The browser should show an expected profit of 195080.9097290039 dollars.\n",
    "\n",
    "Note, when you get error messages like 'The Node.js native addon module (tfjs_binding.node) can not be found at path', the easiest solution is to remove the folder ```node_modules```, to uninstall node.js and to reinstall node.js, including the build tools.\n",
    " \n",
    "Let's have a look at the code of the node.js app in my_predict_app.js. It's very easy to understand:\n",
    "* open an HTTP server\n",
    "* whenever an URL is opened with a query parameter ```citysize```, the ```predictProfit``` function is invoked.\n",
    "* the function ```predictProfit``` loads the pre-trained Keras/Tensoflow regression model from disk (only once to save resources).\n",
    "* the ```citysize``` is feature-normalized, a processing step that is is easily forgotten.\n",
    "* the ```predict``` method is invoked on the loaded regression model and the feature-normalized citysize is passed.\n",
    "* the predicted value is returned from the ```predict``` method and returned to the browser.\n",
    "\n",
    "Note that the values of the mean and standard deviation, needed to perform feature normalization, are based on the training set of hands-on 3 'univariate linear regression using a keras/tensorflow NN'. Whenever you change something to the training set, e.g. make it bigger or smaller, the values of the mean and standard deviation are different and the changed values <u>need to be copied to this node.js application</u>, otherwise the predictions will be incorrect!"
   ]
  }
 ],
 "metadata": {
  "kernelspec": {
   "display_name": "Python 3",
   "language": "python",
   "name": "python3"
  },
  "language_info": {
   "codemirror_mode": {
    "name": "ipython",
    "version": 3
   },
   "file_extension": ".py",
   "mimetype": "text/x-python",
   "name": "python",
   "nbconvert_exporter": "python",
   "pygments_lexer": "ipython3",
   "version": "3.7.3"
  }
 },
 "nbformat": 4,
 "nbformat_minor": 4
}
